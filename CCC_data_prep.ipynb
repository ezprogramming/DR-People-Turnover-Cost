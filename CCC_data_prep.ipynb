{
 "cells": [
  {
   "cell_type": "code",
   "execution_count": 1,
   "metadata": {},
   "outputs": [],
   "source": [
    "import pandas as pd\n",
    "import numpy as np\n",
    "import matplotlib"
   ]
  },
  {
   "cell_type": "code",
   "execution_count": 2,
   "metadata": {},
   "outputs": [
    {
     "name": "stderr",
     "output_type": "stream",
     "text": [
      "C:\\Users\\zhenger\\AppData\\Local\\Temp\\ipykernel_17248\\2786130087.py:1: FutureWarning: column_space is deprecated and will be removed in a future version. Use df.to_string(col_space=...) instead.\n",
      "  pd.reset_option('all')\n",
      "C:\\Users\\zhenger\\AppData\\Local\\Temp\\ipykernel_17248\\2786130087.py:1: FutureWarning: As the xlwt package is no longer maintained, the xlwt engine will be removed in a future version of pandas. This is the only engine in pandas that supports writing in the xls format. Install openpyxl and write to an xlsx file instead.\n",
      "  pd.reset_option('all')\n",
      "C:\\Users\\zhenger\\AppData\\Local\\Temp\\ipykernel_17248\\2786130087.py:1: FutureWarning: \n",
      ": boolean\n",
      "    use_inf_as_null had been deprecated and will be removed in a future\n",
      "    version. Use `use_inf_as_na` instead.\n",
      "\n",
      "  pd.reset_option('all')\n"
     ]
    }
   ],
   "source": [
    "pd.reset_option('all')"
   ]
  },
  {
   "cell_type": "code",
   "execution_count": 3,
   "metadata": {},
   "outputs": [],
   "source": [
    "def date_parser(date_str):\n",
    "    return pd.to_datetime(date_str, format='%d/%m/%Y %H:%M:%S')"
   ]
  },
  {
   "cell_type": "code",
   "execution_count": 4,
   "metadata": {},
   "outputs": [],
   "source": [
    "EL04_org = pd.read_excel('//wdcntfsvs01.corporate.nzpost.co.nz/mdaas$/zhenger/My Documents/DR People Turnover Cost/raw data/EL04 Historical 3 years.xlsx',sheet_name='Raw Data',keep_default_na=True, parse_dates=['RUNDATE_1', 'FIRST_COMMENCE', 'RUNDATE','ANNL_LV_SERVICE_DT','ACRL_COMMENCE','DATE_OF_BIRTH'], date_parser=date_parser)"
   ]
  },
  {
   "cell_type": "code",
   "execution_count": null,
   "metadata": {},
   "outputs": [],
   "source": [
    "EL22_org = pd.read_excel('//wdcntfsvs01.corporate.nzpost.co.nz/mdaas$/zhenger/My Documents/DR People Turnover Cost/raw data/EL22 Historical.xlsx',sheet_name='Raw Data',keep_default_na=True, parse_dates=['SERVICE_DATE', 'HIRE_DATE', 'TERM_DATE','PROCESSED_DATE'], date_parser=date_parser)"
   ]
  },
  {
   "cell_type": "code",
   "execution_count": null,
   "metadata": {},
   "outputs": [],
   "source": [
    "EL04_22_org = pd.read_excel('//wdcntfsvs01.corporate.nzpost.co.nz/mdaas$/zhenger/My Documents/DR People Turnover Cost/raw data/el22 and el04.xlsx',sheet_name='Raw Data',keep_default_na=True,parse_dates=['SERVICE_DATE', 'TERM_DATE','PROCESSED_DATE','RUNDATE','FIRST_COMMENCE','ANNL_LV_SERVICE_DT','ACRL_COMMENCE'], date_parser=date_parser)"
   ]
  },
  {
   "cell_type": "code",
   "execution_count": null,
   "metadata": {},
   "outputs": [],
   "source": [
    "pd.set_option('display.max_rows',50)\n",
    "pd.set_option('display.max_columns' , 150)\n",
    "EL04_org.info(verbose=True, show_counts=True)"
   ]
  },
  {
   "cell_type": "code",
   "execution_count": null,
   "metadata": {},
   "outputs": [],
   "source": [
    "EL04_22_org.info(verbose=True, show_counts=True)\n",
    "EL04_org.info(verbose=True, show_counts=True)\n",
    "EL22_org.info(verbose=True, show_counts=True)"
   ]
  },
  {
   "cell_type": "code",
   "execution_count": null,
   "metadata": {},
   "outputs": [],
   "source": [
    "EL22_org_vol = EL22_org[EL22_org['VOLINVOL'] == 'Vol']"
   ]
  },
  {
   "cell_type": "code",
   "execution_count": null,
   "metadata": {},
   "outputs": [],
   "source": [
    "# EL04_22_org['TERM_DATE']= pd.to_datetime(EL04_22_org['TERM_DATE'], format='%d/%m/%Y %H:%M:%S')\n",
    "# EL04_22_org['RUNDATE_1']= pd.to_datetime(EL04_22_org['TERM_DATE'], format='%d/%m/%Y %H:%M:%S')\n",
    "# EL04_22_org['SERVICE_DATE'] = pd.to_datetime(EL04_22_org[\"SERVICE_DATE\"], format='%d/%m/%Y %H:%M:%S')\n",
    "# EL22_org[\"TERM_DATE\"] = pd.to_datetime(EL22_org[\"TERM_DATE\"], format='%d/%m/%Y %H:%M:%S')\n",
    "# EL22_org['RUNDATE_1']= pd.to_datetime(EL04_22_org['TERM_DATE'], format='%d/%m/%Y %H:%M:%S')\n",
    "# EL22_org['SERVICE_DATE'] = pd.to_datetime(EL22_org[\"SERVICE_DATE\"], format='%d/%m/%Y %H:%M:%S')\n",
    "# EL04_org[\"TERM_DATE\"] = pd.to_datetime(EL22_org[\"TERM_DATE\"], format='%d/%m/%Y %H:%M:%S')\n",
    "# EL04_org['RUNDATE_1']= pd.to_datetime(EL04_22_org['TERM_DATE'], format='%d/%m/%Y %H:%M:%S')\n",
    "# EL04_org['SERVICE_DATE'] = pd.to_datetime(EL22_org[\"SERVICE_DATE\"], format='%d/%m/%Y %H:%M:%S')"
   ]
  },
  {
   "cell_type": "code",
   "execution_count": null,
   "metadata": {},
   "outputs": [],
   "source": [
    "EL04_org['RUNDATE_1'].sort_values()"
   ]
  },
  {
   "cell_type": "code",
   "execution_count": null,
   "metadata": {},
   "outputs": [],
   "source": [
    "# # create a sample DataFrame with some null values\n",
    "# df = pd.DataFrame({'A': [1, 2, None, 4],\n",
    "#                    'B': ['foo', None, 'bar', 'baz'],\n",
    "#                    'C': [True, False, None, True]})\n",
    "\n",
    "# # drop rows where B is null\n",
    "# filtered_df = df.dropna(subset=['B'])\n",
    "\n",
    "# # print the filtered DataFrame\n",
    "# print(filtered_df)"
   ]
  },
  {
   "cell_type": "code",
   "execution_count": null,
   "metadata": {},
   "outputs": [],
   "source": [
    "EL22_org_vol.info()"
   ]
  },
  {
   "cell_type": "code",
   "execution_count": null,
   "metadata": {},
   "outputs": [],
   "source": [
    "#check if all turnover staffs is in two el22 report\n",
    "pd.set_option('display.max_columns', None)\n",
    "EL22_org[~EL22_org['EMPLOYEE_NO'].isin(EL04_22_org['EMPLOYEE_NO'])]\n",
    "#El04_ccc include invol and term_date before 2020/03/24\n",
    "EL22_org[~EL22_org['EMPLOYEE_NO'].isin(EL04_org['EMPLOYEE_NO'])]\n",
    "# (EL04_22_CCC_3y['EMPLOYEE_NO'] == '1011031').sum()"
   ]
  },
  {
   "cell_type": "code",
   "execution_count": null,
   "metadata": {},
   "outputs": [],
   "source": [
    "EL22_org_vol['EMPLOYEE_NO'].nunique()"
   ]
  },
  {
   "cell_type": "code",
   "execution_count": null,
   "metadata": {},
   "outputs": [],
   "source": [
    "EL22_org_vol[EL22_org_vol.duplicated(subset='EMPLOYEE_NO', keep=False)]['EMPLOYEE_NO'].sort_values()"
   ]
  },
  {
   "cell_type": "code",
   "execution_count": null,
   "metadata": {},
   "outputs": [],
   "source": [
    "EL22_org_vol[EL22_org_vol['EMPLOYEE_NO'] == 831038]"
   ]
  },
  {
   "cell_type": "code",
   "execution_count": null,
   "metadata": {},
   "outputs": [],
   "source": [
    "EL04_org[EL04_org['EMPLOYEE_NO'] == 831038]"
   ]
  },
  {
   "cell_type": "code",
   "execution_count": null,
   "metadata": {},
   "outputs": [],
   "source": [
    "EL22_org_vol_sm = EL22_org_vol.drop(['NAME_REPORT','GENDER','LOCATION_NAME','PAYGRP','POSITION_NO','GRADE','STEP_NO','CATEGORY','EMPLOYMENT_TYPE','EMAIL','EMP_STAT_DESC','RC','RC_DESCRIPTION','COMPANY_CODE','CLEVEL','CLEVEL1_DESC','CLEVEL2_DESC','CLEVEL3_DESC','CLEVEL4_DESC','CLEVEL5_DESC'],axis=1)"
   ]
  },
  {
   "cell_type": "code",
   "execution_count": null,
   "metadata": {},
   "outputs": [],
   "source": [
    "EL22_org_vol_sm = EL22_org_vol[['EMPLOYEE_NO','JOB_NO', 'TERM_DATE']]"
   ]
  },
  {
   "cell_type": "code",
   "execution_count": null,
   "metadata": {},
   "outputs": [],
   "source": [
    "El04_22_3y_combined = pd.merge(EL04_org, EL22_org_vol_sm, on=['EMPLOYEE_NO', 'JOB_NO'],how='left')"
   ]
  },
  {
   "cell_type": "code",
   "execution_count": null,
   "metadata": {},
   "outputs": [],
   "source": [
    "El04_22_3y_combined.info(verbose=True, show_counts=True)"
   ]
  },
  {
   "cell_type": "code",
   "execution_count": null,
   "metadata": {},
   "outputs": [],
   "source": [
    "El04_22_3y_combined.head()"
   ]
  },
  {
   "cell_type": "code",
   "execution_count": null,
   "metadata": {},
   "outputs": [],
   "source": [
    "El04_22_3y_combined_copy = El04_22_3y_combined.copy()\n",
    "El04_22_3y_combined_copy.rename(columns={'RUNDATE_1': 'PRESENT_DATE'}, inplace=True)\n",
    "El04_22_3y_combined_copy.sort_values(by='TERM_DATE', ascending=False)\n",
    "# EL22_CCC_3y['TERM_DATE'].sort_values()"
   ]
  },
  {
   "cell_type": "code",
   "execution_count": null,
   "metadata": {},
   "outputs": [],
   "source": [
    "El04_22_3y_combined_copy['DAYS_TO_TERMINATION'] = (El04_22_3y_combined_copy['TERM_DATE'] - El04_22_3y_combined_copy['PRESENT_DATE']).dt.days"
   ]
  },
  {
   "cell_type": "code",
   "execution_count": null,
   "metadata": {},
   "outputs": [],
   "source": [
    "El04_22_3y_combined_copy[El04_22_3y_combined_copy['DAYS_TO_TERMINATION']<0]"
   ]
  },
  {
   "cell_type": "code",
   "execution_count": null,
   "metadata": {},
   "outputs": [],
   "source": [
    "El04_22_3y_combined_copy[El04_22_3y_combined_copy['DAYS_TO_TERMINATION']<0]['EMPLOYEE_NO'].value_counts()"
   ]
  },
  {
   "cell_type": "code",
   "execution_count": null,
   "metadata": {},
   "outputs": [],
   "source": [
    "El04_22_3y_combined_copy[(El04_22_3y_combined_copy['DAYS_TO_TERMINATION']>0) | (El04_22_3y_combined_copy['DAYS_TO_TERMINATION'].isnull())]"
   ]
  },
  {
   "cell_type": "code",
   "execution_count": null,
   "metadata": {},
   "outputs": [],
   "source": [
    "El04_22_3y_combined_copy[El04_22_3y_combined_copy['DAYS_TO_TERMINATION']<0]"
   ]
  },
  {
   "cell_type": "code",
   "execution_count": null,
   "metadata": {},
   "outputs": [],
   "source": [
    "El04_22_3y_combined_copy['DAYS_TO_TERMINATION'] = El04_22_3y_combined_copy['DAYS_TO_TERMINATION'].apply(lambda x: 0 if x < 0 else x)"
   ]
  },
  {
   "cell_type": "code",
   "execution_count": null,
   "metadata": {},
   "outputs": [],
   "source": [
    "El04_22_3y_combined_copy[(El04_22_3y_combined_copy['DAYS_TO_TERMINATION']>0) | (El04_22_3y_combined_copy['DAYS_TO_TERMINATION'].isnull())]"
   ]
  },
  {
   "cell_type": "code",
   "execution_count": null,
   "metadata": {},
   "outputs": [],
   "source": [
    "#check if there is negtive value instated \n",
    "#El04_22_3y_combined_copy[El04_22_3y_combined_copy['DAYS_TO_TERMINATION']<0]"
   ]
  },
  {
   "cell_type": "code",
   "execution_count": null,
   "metadata": {},
   "outputs": [],
   "source": [
    "El04_22_3y_combined_copy.info()"
   ]
  },
  {
   "cell_type": "code",
   "execution_count": null,
   "metadata": {},
   "outputs": [],
   "source": [
    "# Create a new column 'TURNOVER_FLAG' with default value 0\n",
    "El04_22_3y_combined_copy['TURNOVER_FLAG'] = 0\n",
    "\n",
    "# Update the turnover flag for employees who have left\n",
    "El04_22_3y_combined_copy.loc[El04_22_3y_combined_copy['TERM_DATE'].notnull() & (El04_22_3y_combined_copy['DAYS_TO_TERMINATION'] <= 90), 'TURNOVER_FLAG'] = 1\n",
    "\n",
    "#Altertive option\n",
    "#El04_22_3y_CCR_CAR_combined_copy['TURNOVER_FLAG'] = np.where(El04_22_3y_CCR_CAR_combined_copy['DAYS_TO_TERMINATION'] <= 90, 1, 0)\n",
    "\n",
    "#Update the turnover flag for employees who have not left\n",
    "El04_22_3y_combined_copy.loc[El04_22_3y_combined_copy['TERM_DATE'].isnull(), 'TURNOVER_FLAG'] = 0"
   ]
  },
  {
   "cell_type": "code",
   "execution_count": null,
   "metadata": {},
   "outputs": [],
   "source": [
    "El04_22_3y_CCC_combined = El04_22_3y_combined_copy[El04_22_3y_combined_copy['RC'].isin(['814461', '851420'])]"
   ]
  },
  {
   "cell_type": "code",
   "execution_count": null,
   "metadata": {},
   "outputs": [],
   "source": [
    "El04_22_3y_CCC_combined['PRESENT_DATE'].sort_values()"
   ]
  },
  {
   "cell_type": "code",
   "execution_count": null,
   "metadata": {},
   "outputs": [],
   "source": [
    "El04_22_3y_CCC_combined.info()"
   ]
  },
  {
   "cell_type": "code",
   "execution_count": null,
   "metadata": {},
   "outputs": [],
   "source": [
    "El04_22_3y_CCC_combined[El04_22_3y_CCC_combined['POS_TITLE'] == 'Customer Advocacy Representative']['PRESENT_DATE'].value_counts()"
   ]
  },
  {
   "cell_type": "code",
   "execution_count": null,
   "metadata": {},
   "outputs": [],
   "source": [
    "El04_22_3y_CCC_combined['POS_TITLE'].value_counts()"
   ]
  },
  {
   "cell_type": "code",
   "execution_count": null,
   "metadata": {},
   "outputs": [],
   "source": [
    "El04_22_3y_CCR_CAR_combined = El04_22_3y_CCC_combined[El04_22_3y_CCC_combined['POS_TITLE'].str.contains('Representative')]"
   ]
  },
  {
   "cell_type": "code",
   "execution_count": null,
   "metadata": {},
   "outputs": [],
   "source": [
    "El04_22_3y_CCC_combined['PRESENT_DATE'].value_counts()"
   ]
  },
  {
   "cell_type": "code",
   "execution_count": null,
   "metadata": {},
   "outputs": [],
   "source": [
    "El04_22_3y_CCR_CAR_combined['PRESENT_DATE'].value_counts()"
   ]
  },
  {
   "cell_type": "code",
   "execution_count": null,
   "metadata": {},
   "outputs": [],
   "source": [
    "El04_22_3y_CCR_CAR_combined.info()"
   ]
  },
  {
   "cell_type": "code",
   "execution_count": null,
   "metadata": {},
   "outputs": [],
   "source": [
    "El04_22_3y_CCR_CAR_combined['TURNOVER_FLAG'].sum()"
   ]
  },
  {
   "cell_type": "code",
   "execution_count": null,
   "metadata": {},
   "outputs": [],
   "source": [
    "(El04_22_3y_CCR_CAR_combined['DAYS_TO_TERMINATION'].isnull())"
   ]
  },
  {
   "cell_type": "code",
   "execution_count": null,
   "metadata": {},
   "outputs": [],
   "source": [
    "(El04_22_3y_CCR_CAR_combined['DAYS_TO_TERMINATION']<=90).sum()"
   ]
  },
  {
   "cell_type": "code",
   "execution_count": null,
   "metadata": {},
   "outputs": [],
   "source": [
    "(El04_22_3y_CCR_CAR_combined['TURNOVER_FLAG'] ==1).sum()"
   ]
  },
  {
   "cell_type": "code",
   "execution_count": null,
   "metadata": {},
   "outputs": [],
   "source": [
    "# date time have been done already\n",
    "# El04_22_3y_CCC_combined['TERM_DATE'] = pd.to_datetime(El04_22_3y_CCC_combined['TERM_DATE'],format='%d/%m/%Y %H:%M:%S')\n",
    "# El04_22_3y_CCC_combined['PRESENT_DATE'] = pd.to_datetime(El04_22_3y_CCC_combined['RUNDATE_1'],format='%d/%m/%Y %H:%M:%S')"
   ]
  },
  {
   "cell_type": "code",
   "execution_count": null,
   "metadata": {},
   "outputs": [],
   "source": [
    "El04_22_3y_CCR_CAR_combined[El04_22_3y_CCR_CAR_combined['EMPLOYEE_NO']==1016099]\n",
    "# El04_22_CCC_3y_combined[El04_22_CCC_3y_combined['EMPLOYEE_NO']==1007654]"
   ]
  },
  {
   "cell_type": "code",
   "execution_count": null,
   "metadata": {},
   "outputs": [],
   "source": [
    "El04_22_3y_CCR_CAR_combined['RUNDATE'].value_counts()"
   ]
  },
  {
   "cell_type": "code",
   "execution_count": null,
   "metadata": {},
   "outputs": [],
   "source": [
    "El04_22_3y_CCR_CAR_combined_copy = El04_22_3y_CCR_CAR_combined.drop(['DAYS_TO_TERMINATION','TERM_DATE','RUNDATE'], axis = 1)"
   ]
  },
  {
   "cell_type": "code",
   "execution_count": null,
   "metadata": {},
   "outputs": [],
   "source": [
    "El04_22_3y_CCR_CAR_combined_copy.to_csv('El04_22_3y_CCR_CAR_combined_copy.csv', index=False)"
   ]
  },
  {
   "cell_type": "code",
   "execution_count": null,
   "metadata": {},
   "outputs": [],
   "source": [
    "El04_22_3y_CCR_CAR_combined_copy['PRESENT_DATE']"
   ]
  },
  {
   "cell_type": "code",
   "execution_count": null,
   "metadata": {},
   "outputs": [],
   "source": [
    "LV04_org = pd.read_excel('//wdcntfsvs01.corporate.nzpost.co.nz/mdaas$/zhenger/My Documents/DR People Turnover Cost/raw data/LV04 3 Years.xlsx',sheet_name='Raw Data',keep_default_na=True,parse_dates=['ACRL_DATE', 'RUN_DATE', 'SERV_DATE'],date_parser=date_parser)"
   ]
  },
  {
   "cell_type": "code",
   "execution_count": null,
   "metadata": {},
   "outputs": [],
   "source": [
    "LV04_org.rename(columns={'RUN_DATE': 'PRESENT_DATE'}, inplace=True)\n",
    "LV04_org.rename(columns={'EMPLOYEE#': 'EMPLOYEE_NO'}, inplace=True)"
   ]
  },
  {
   "cell_type": "code",
   "execution_count": null,
   "metadata": {},
   "outputs": [],
   "source": [
    "LV04_org['ANNUAL_ANNIV_DATE'] = LV04_org['ANNUAL_ANNIV_DATE'].replace('29/02/2021', '28/02/2021')\n",
    "LV04_org['ANNUAL_ANNIV_DATE'] = LV04_org['ANNUAL_ANNIV_DATE'].replace('29/02/2022', '28/02/2022')\n",
    "LV04_org['ANNUAL_ANNIV_DATE'] = LV04_org['ANNUAL_ANNIV_DATE'].replace('29/02/2023', '28/02/2023')"
   ]
  },
  {
   "cell_type": "code",
   "execution_count": null,
   "metadata": {},
   "outputs": [],
   "source": [
    "LV04_org['ANNUAL_ANNIV_DATE']"
   ]
  },
  {
   "cell_type": "code",
   "execution_count": null,
   "metadata": {},
   "outputs": [],
   "source": [
    "LV04_org.info()"
   ]
  },
  {
   "cell_type": "code",
   "execution_count": null,
   "metadata": {},
   "outputs": [],
   "source": [
    "LV04_org_sm = LV04_org.drop(['JOB#','MANAGER#','MANAGER_JOB#','MANAGER_POS#','POSITION_NO','NAME_REPORT','MANAGER_NAME','EMPLOYMENT_TYPE','REGION','PAYGRP','STEP_NO','COMPANY_CODE','CLEVEL','CLASSIFICATION'],axis=1)"
   ]
  },
  {
   "cell_type": "code",
   "execution_count": null,
   "metadata": {},
   "outputs": [],
   "source": [
    "El04_22_LV04_3y_CCR_CAR_combined = pd.merge(El04_22_3y_CCR_CAR_combined_copy, LV04_org_sm, on=['EMPLOYEE_NO', 'PRESENT_DATE'],how='left')"
   ]
  },
  {
   "cell_type": "code",
   "execution_count": null,
   "metadata": {},
   "outputs": [],
   "source": [
    "El04_22_LV04_3y_CCR_CAR_combined.info(verbose=True, show_counts=True)"
   ]
  },
  {
   "cell_type": "code",
   "execution_count": null,
   "metadata": {},
   "outputs": [],
   "source": [
    "El04_22_LV04_3y_CCR_CAR_combined.info()"
   ]
  },
  {
   "cell_type": "code",
   "execution_count": null,
   "metadata": {},
   "outputs": [],
   "source": [
    "El04_22_LV04_3y_CCR_CAR_combined.to_csv('El04_22_LV04_3y_CCR_CAR_combined.csv', index=False)"
   ]
  },
  {
   "cell_type": "code",
   "execution_count": null,
   "metadata": {},
   "outputs": [],
   "source": []
  }
 ],
 "metadata": {
  "kernelspec": {
   "display_name": "tocost",
   "language": "python",
   "name": "python3"
  },
  "language_info": {
   "codemirror_mode": {
    "name": "ipython",
    "version": 3
   },
   "file_extension": ".py",
   "mimetype": "text/x-python",
   "name": "python",
   "nbconvert_exporter": "python",
   "pygments_lexer": "ipython3",
   "version": "3.8.16"
  },
  "orig_nbformat": 4,
  "vscode": {
   "interpreter": {
    "hash": "05977bd6ccd63f6437e5a15db39532d3a8ae4bf5de9207657822a90a5db9061a"
   }
  }
 },
 "nbformat": 4,
 "nbformat_minor": 2
}
